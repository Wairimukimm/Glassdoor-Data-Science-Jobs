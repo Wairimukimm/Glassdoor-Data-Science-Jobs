{
 "cells": [
  {
   "cell_type": "markdown",
   "metadata": {},
   "source": [
    "### GLASSDOOR ###"
   ]
  },
  {
   "cell_type": "markdown",
   "metadata": {},
   "source": [
    "### INTRODUCTION ###\n",
    "\n",
    "This project invloves data cleaning and explaratory data analysis to get meaningful insights from the data."
   ]
  },
  {
   "cell_type": "markdown",
   "metadata": {},
   "source": [
    "**BACKGROUND INFORMATION**\n",
    "\n",
    "Glassdoor is a popular online platform where employees and former employees anonymously review companies and their management. The platform also provides job listings, salary data, and interview insights, creating a rich dataset covering various aspects of the job market. This project aims to tap into this wealth of information to gain valuable insights into job trends, company reputations, and compensation patterns."
   ]
  },
  {
   "cell_type": "markdown",
   "metadata": {},
   "source": [
    "**DATA UNDERSTANDING**\n",
    "\n",
    "The data contains information on 1500 job postings on data science.\n",
    "\n",
    "DATASET - https://www.kaggle.com/datasets/rrkcoder/glassdoor-data-science-job-listings/data\n",
    "Columns;\n",
    "- Job Title: The title of the data science job position.\n",
    "- Salary Estimate: The estimated salary range associated with the job.\n",
    "- Job Description: A detailed description of the responsibilities and requirements for the job.\n",
    "- Rating: The company's rating on Glassdoor.\n",
    "- Company Name: The name of the hiring company.\n",
    "- Location: The geographical location of the job.\n",
    "- Size: The size of the company in terms of employees.\n",
    "- Founded: The year the company was founded.\n",
    "- Type of Ownership: The ownership structure of the company (e.g., public, private).\n",
    "- Industry: The industry in which the company operates.\n",
    "- Sector: The sector to which the company belongs.\n",
    "- Revenue: The revenue of the company\n",
    "\n",
    "**PROBLEM STATEMENT**\n",
    "\n",
    "The Glassdoor Data Science Project aims to derive actionable insights and provide valuable information to job seekers and employers using the extensive dataset available on Glassdoor. The project focuses on leveraging data science techniques to analyze and uncover patterns within job postings, company reviews, and salary information to help users make informed decisions related to their career choices.\n",
    "\n",
    "**OBJECTIVES**\n",
    "\n",
    "* To identify the most in-demand skills and qualifications in various job categories.\n",
    "* To Analyze company reviews and ratings to identify factors influencing employee satisfaction.\n",
    "* To Identify factors influencing salary levels, such as experience, education, and company size."
   ]
  },
  {
   "cell_type": "code",
   "execution_count": 33,
   "metadata": {},
   "outputs": [],
   "source": [
    "#import necessary libraries\n",
    "import pandas as pd\n",
    "import numpy as np\n",
    "\n",
    "import seaborn as sns\n",
    "import matplotlib.pyplot as plt\n"
   ]
  },
  {
   "cell_type": "code",
   "execution_count": 34,
   "metadata": {
    "scrolled": false
   },
   "outputs": [
    {
     "data": {
      "text/html": [
       "<div>\n",
       "<style scoped>\n",
       "    .dataframe tbody tr th:only-of-type {\n",
       "        vertical-align: middle;\n",
       "    }\n",
       "\n",
       "    .dataframe tbody tr th {\n",
       "        vertical-align: top;\n",
       "    }\n",
       "\n",
       "    .dataframe thead th {\n",
       "        text-align: right;\n",
       "    }\n",
       "</style>\n",
       "<table border=\"1\" class=\"dataframe\">\n",
       "  <thead>\n",
       "    <tr style=\"text-align: right;\">\n",
       "      <th></th>\n",
       "      <th>Job Title</th>\n",
       "      <th>Salary Estimate</th>\n",
       "      <th>Job Description</th>\n",
       "      <th>Rating</th>\n",
       "      <th>Company Name</th>\n",
       "      <th>Location</th>\n",
       "      <th>Size</th>\n",
       "      <th>Founded</th>\n",
       "      <th>Type of ownership</th>\n",
       "      <th>Industry</th>\n",
       "      <th>Sector</th>\n",
       "      <th>Revenue</th>\n",
       "    </tr>\n",
       "  </thead>\n",
       "  <tbody>\n",
       "    <tr>\n",
       "      <th>0</th>\n",
       "      <td>Data Scientist</td>\n",
       "      <td>-1</td>\n",
       "      <td>Job Overview\\nA Data Scientist at ExploreLearn...</td>\n",
       "      <td>4.2</td>\n",
       "      <td>Cambium Learning Group\\n4.3</td>\n",
       "      <td>Remote</td>\n",
       "      <td>1001 to 5000 Employees</td>\n",
       "      <td>2004</td>\n",
       "      <td>Company - Private</td>\n",
       "      <td>Primary &amp; Secondary Schools</td>\n",
       "      <td>Education</td>\n",
       "      <td>$500 million to $1 billion (USD)</td>\n",
       "    </tr>\n",
       "    <tr>\n",
       "      <th>1</th>\n",
       "      <td>2024 University Graduate - Data Scientist</td>\n",
       "      <td>Employer Provided Salary:$83K - $153K</td>\n",
       "      <td>Our Company\\n\\nChanging the world through digi...</td>\n",
       "      <td>4.4</td>\n",
       "      <td>Adobe\\n4.4</td>\n",
       "      <td>San Jose, CA</td>\n",
       "      <td>10000+ Employees</td>\n",
       "      <td>1982</td>\n",
       "      <td>Company - Public</td>\n",
       "      <td>Computer Hardware Development</td>\n",
       "      <td>Information Technology</td>\n",
       "      <td>$5 to $10 billion (USD)</td>\n",
       "    </tr>\n",
       "    <tr>\n",
       "      <th>2</th>\n",
       "      <td>Data Scientist – Entry Level 2024</td>\n",
       "      <td>Employer Provided Salary:$71K - $133K</td>\n",
       "      <td>Introduction\\nRanked by Forbes as one of the w...</td>\n",
       "      <td>3.9</td>\n",
       "      <td>IBM\\n3.9</td>\n",
       "      <td>Atlanta, GA</td>\n",
       "      <td>10000+ Employees</td>\n",
       "      <td>1911</td>\n",
       "      <td>Company - Public</td>\n",
       "      <td>Information Technology Support Services</td>\n",
       "      <td>Information Technology</td>\n",
       "      <td>$10+ billion (USD)</td>\n",
       "    </tr>\n",
       "    <tr>\n",
       "      <th>3</th>\n",
       "      <td>Data Scientist 2</td>\n",
       "      <td>Employer Provided Salary:$94K - $183K</td>\n",
       "      <td>The Microsoft 365 team is looking for a Data S...</td>\n",
       "      <td>4.3</td>\n",
       "      <td>Microsoft\\n4.3</td>\n",
       "      <td>Redmond, WA</td>\n",
       "      <td>10000+ Employees</td>\n",
       "      <td>1975</td>\n",
       "      <td>Company - Public</td>\n",
       "      <td>Computer Hardware Development</td>\n",
       "      <td>Information Technology</td>\n",
       "      <td>$10+ billion (USD)</td>\n",
       "    </tr>\n",
       "    <tr>\n",
       "      <th>4</th>\n",
       "      <td>Entry Level Data Scientist 2023/2024</td>\n",
       "      <td>$48K - $78K (Glassdoor est.)</td>\n",
       "      <td>You may not realize it, but you’ve likely used...</td>\n",
       "      <td>3.9</td>\n",
       "      <td>CPChem\\n3.9</td>\n",
       "      <td>The Woodlands, TX</td>\n",
       "      <td>1001 to 5000 Employees</td>\n",
       "      <td>2000</td>\n",
       "      <td>Company - Private</td>\n",
       "      <td>Chemical Manufacturing</td>\n",
       "      <td>Manufacturing</td>\n",
       "      <td>$10+ billion (USD)</td>\n",
       "    </tr>\n",
       "  </tbody>\n",
       "</table>\n",
       "</div>"
      ],
      "text/plain": [
       "                                   Job Title  \\\n",
       "0                             Data Scientist   \n",
       "1  2024 University Graduate - Data Scientist   \n",
       "2          Data Scientist – Entry Level 2024   \n",
       "3                           Data Scientist 2   \n",
       "4       Entry Level Data Scientist 2023/2024   \n",
       "\n",
       "                         Salary Estimate  \\\n",
       "0                                     -1   \n",
       "1  Employer Provided Salary:$83K - $153K   \n",
       "2  Employer Provided Salary:$71K - $133K   \n",
       "3  Employer Provided Salary:$94K - $183K   \n",
       "4           $48K - $78K (Glassdoor est.)   \n",
       "\n",
       "                                     Job Description  Rating  \\\n",
       "0  Job Overview\\nA Data Scientist at ExploreLearn...     4.2   \n",
       "1  Our Company\\n\\nChanging the world through digi...     4.4   \n",
       "2  Introduction\\nRanked by Forbes as one of the w...     3.9   \n",
       "3  The Microsoft 365 team is looking for a Data S...     4.3   \n",
       "4  You may not realize it, but you’ve likely used...     3.9   \n",
       "\n",
       "                  Company Name           Location                    Size  \\\n",
       "0  Cambium Learning Group\\n4.3             Remote  1001 to 5000 Employees   \n",
       "1                   Adobe\\n4.4       San Jose, CA        10000+ Employees   \n",
       "2                     IBM\\n3.9        Atlanta, GA        10000+ Employees   \n",
       "3               Microsoft\\n4.3        Redmond, WA        10000+ Employees   \n",
       "4                  CPChem\\n3.9  The Woodlands, TX  1001 to 5000 Employees   \n",
       "\n",
       "   Founded  Type of ownership                                 Industry  \\\n",
       "0     2004  Company - Private              Primary & Secondary Schools   \n",
       "1     1982   Company - Public            Computer Hardware Development   \n",
       "2     1911   Company - Public  Information Technology Support Services   \n",
       "3     1975   Company - Public            Computer Hardware Development   \n",
       "4     2000  Company - Private                   Chemical Manufacturing   \n",
       "\n",
       "                   Sector                           Revenue  \n",
       "0               Education  $500 million to $1 billion (USD)  \n",
       "1  Information Technology           $5 to $10 billion (USD)  \n",
       "2  Information Technology                $10+ billion (USD)  \n",
       "3  Information Technology                $10+ billion (USD)  \n",
       "4           Manufacturing                $10+ billion (USD)  "
      ]
     },
     "execution_count": 34,
     "metadata": {},
     "output_type": "execute_result"
    }
   ],
   "source": [
    "# load the dataset\n",
    "df = pd.read_csv(r\"C:\\Users\\nimu\\Downloads\\archive (14)\\glassdoor_jobs.csv\")\n",
    "df.head(5)"
   ]
  },
  {
   "cell_type": "code",
   "execution_count": 35,
   "metadata": {},
   "outputs": [
    {
     "data": {
      "text/plain": [
       "(1500, 12)"
      ]
     },
     "execution_count": 35,
     "metadata": {},
     "output_type": "execute_result"
    }
   ],
   "source": [
    "#check the shape\n",
    "df.shape"
   ]
  },
  {
   "cell_type": "code",
   "execution_count": 36,
   "metadata": {},
   "outputs": [
    {
     "name": "stdout",
     "output_type": "stream",
     "text": [
      "<class 'pandas.core.frame.DataFrame'>\n",
      "RangeIndex: 1500 entries, 0 to 1499\n",
      "Data columns (total 12 columns):\n",
      " #   Column             Non-Null Count  Dtype  \n",
      "---  ------             --------------  -----  \n",
      " 0   Job Title          1500 non-null   object \n",
      " 1   Salary Estimate    1500 non-null   object \n",
      " 2   Job Description    1500 non-null   object \n",
      " 3   Rating             1500 non-null   float64\n",
      " 4   Company Name       1500 non-null   object \n",
      " 5   Location           1500 non-null   object \n",
      " 6   Size               1500 non-null   object \n",
      " 7   Founded            1500 non-null   int64  \n",
      " 8   Type of ownership  1500 non-null   object \n",
      " 9   Industry           1500 non-null   object \n",
      " 10  Sector             1500 non-null   object \n",
      " 11  Revenue            1500 non-null   object \n",
      "dtypes: float64(1), int64(1), object(10)\n",
      "memory usage: 140.8+ KB\n"
     ]
    }
   ],
   "source": [
    "#check the info\n",
    "df.info()"
   ]
  },
  {
   "cell_type": "code",
   "execution_count": 37,
   "metadata": {},
   "outputs": [
    {
     "data": {
      "text/plain": [
       "Job Title            0\n",
       "Salary Estimate      0\n",
       "Job Description      0\n",
       "Rating               0\n",
       "Company Name         0\n",
       "Location             0\n",
       "Size                 0\n",
       "Founded              0\n",
       "Type of ownership    0\n",
       "Industry             0\n",
       "Sector               0\n",
       "Revenue              0\n",
       "dtype: int64"
      ]
     },
     "execution_count": 37,
     "metadata": {},
     "output_type": "execute_result"
    }
   ],
   "source": [
    "#check for missing values\n",
    "df.isnull().sum()"
   ]
  },
  {
   "cell_type": "code",
   "execution_count": 38,
   "metadata": {},
   "outputs": [
    {
     "data": {
      "image/png": "[encoded data removed]",
      "text/plain": [
       "<Figure size 720x576 with 1 Axes>"
      ]
     },
     "metadata": {},
     "output_type": "display_data"
    }
   ],
   "source": [
    "# set figure size\n",
    "plt.figure(figsize=(10, 8))\n",
    "# adjust font scale\n",
    "sns.set(font_scale=1.2)\n",
    "sns.heatmap(df.isnull(),  cbar=False, cmap='viridis', )\n",
    "#set labels\n",
    "plt.title('Heatmap showing columns with null values')\n",
    "plt.xlabel('Columns')\n",
    "plt.ylabel('Rows')\n",
    "plt.show()"
   ]
  },
  {
   "cell_type": "code",
   "execution_count": 39,
   "metadata": {},
   "outputs": [],
   "source": [
    "#drop the duplicates\n",
    "df.drop_duplicates(inplace=True)"
   ]
  },
  {
   "cell_type": "code",
   "execution_count": 40,
   "metadata": {},
   "outputs": [
    {
     "data": {
      "text/html": [
       "<div>\n",
       "<style scoped>\n",
       "    .dataframe tbody tr th:only-of-type {\n",
       "        vertical-align: middle;\n",
       "    }\n",
       "\n",
       "    .dataframe tbody tr th {\n",
       "        vertical-align: top;\n",
       "    }\n",
       "\n",
       "    .dataframe thead th {\n",
       "        text-align: right;\n",
       "    }\n",
       "</style>\n",
       "<table border=\"1\" class=\"dataframe\">\n",
       "  <thead>\n",
       "    <tr style=\"text-align: right;\">\n",
       "      <th></th>\n",
       "      <th>Job Title</th>\n",
       "      <th>Salary Estimate</th>\n",
       "      <th>Job Description</th>\n",
       "      <th>Rating</th>\n",
       "      <th>Company Name</th>\n",
       "      <th>Location</th>\n",
       "      <th>Size</th>\n",
       "      <th>Founded</th>\n",
       "      <th>Type of ownership</th>\n",
       "      <th>Industry</th>\n",
       "      <th>Sector</th>\n",
       "      <th>Revenue</th>\n",
       "      <th>hourly</th>\n",
       "      <th>employer_provided</th>\n",
       "    </tr>\n",
       "  </thead>\n",
       "  <tbody>\n",
       "    <tr>\n",
       "      <th>1</th>\n",
       "      <td>2024 University Graduate - Data Scientist</td>\n",
       "      <td>Employer Provided Salary:$83K - $153K</td>\n",
       "      <td>Our Company\\n\\nChanging the world through digi...</td>\n",
       "      <td>4.4</td>\n",
       "      <td>Adobe\\n4.4</td>\n",
       "      <td>San Jose, CA</td>\n",
       "      <td>10000+ Employees</td>\n",
       "      <td>1982</td>\n",
       "      <td>Company - Public</td>\n",
       "      <td>Computer Hardware Development</td>\n",
       "      <td>Information Technology</td>\n",
       "      <td>$5 to $10 billion (USD)</td>\n",
       "      <td>0</td>\n",
       "      <td>1</td>\n",
       "    </tr>\n",
       "    <tr>\n",
       "      <th>2</th>\n",
       "      <td>Data Scientist – Entry Level 2024</td>\n",
       "      <td>Employer Provided Salary:$71K - $133K</td>\n",
       "      <td>Introduction\\nRanked by Forbes as one of the w...</td>\n",
       "      <td>3.9</td>\n",
       "      <td>IBM\\n3.9</td>\n",
       "      <td>Atlanta, GA</td>\n",
       "      <td>10000+ Employees</td>\n",
       "      <td>1911</td>\n",
       "      <td>Company - Public</td>\n",
       "      <td>Information Technology Support Services</td>\n",
       "      <td>Information Technology</td>\n",
       "      <td>$10+ billion (USD)</td>\n",
       "      <td>0</td>\n",
       "      <td>1</td>\n",
       "    </tr>\n",
       "    <tr>\n",
       "      <th>3</th>\n",
       "      <td>Data Scientist 2</td>\n",
       "      <td>Employer Provided Salary:$94K - $183K</td>\n",
       "      <td>The Microsoft 365 team is looking for a Data S...</td>\n",
       "      <td>4.3</td>\n",
       "      <td>Microsoft\\n4.3</td>\n",
       "      <td>Redmond, WA</td>\n",
       "      <td>10000+ Employees</td>\n",
       "      <td>1975</td>\n",
       "      <td>Company - Public</td>\n",
       "      <td>Computer Hardware Development</td>\n",
       "      <td>Information Technology</td>\n",
       "      <td>$10+ billion (USD)</td>\n",
       "      <td>0</td>\n",
       "      <td>1</td>\n",
       "    </tr>\n",
       "    <tr>\n",
       "      <th>4</th>\n",
       "      <td>Entry Level Data Scientist 2023/2024</td>\n",
       "      <td>$48K - $78K (Glassdoor est.)</td>\n",
       "      <td>You may not realize it, but you’ve likely used...</td>\n",
       "      <td>3.9</td>\n",
       "      <td>CPChem\\n3.9</td>\n",
       "      <td>The Woodlands, TX</td>\n",
       "      <td>1001 to 5000 Employees</td>\n",
       "      <td>2000</td>\n",
       "      <td>Company - Private</td>\n",
       "      <td>Chemical Manufacturing</td>\n",
       "      <td>Manufacturing</td>\n",
       "      <td>$10+ billion (USD)</td>\n",
       "      <td>0</td>\n",
       "      <td>0</td>\n",
       "    </tr>\n",
       "    <tr>\n",
       "      <th>5</th>\n",
       "      <td>Data Scientist (C)</td>\n",
       "      <td>Employer Provided Salary:$65.00 - $75.00 Per Hour</td>\n",
       "      <td>The Team:\\nAt Client’s Artificial Intelligence...</td>\n",
       "      <td>-1.0</td>\n",
       "      <td>IVID TEK INC</td>\n",
       "      <td>Remote</td>\n",
       "      <td>1 to 50 Employees</td>\n",
       "      <td>-1</td>\n",
       "      <td>Company - Public</td>\n",
       "      <td>-1</td>\n",
       "      <td>-1</td>\n",
       "      <td>Unknown / Non-Applicable</td>\n",
       "      <td>1</td>\n",
       "      <td>1</td>\n",
       "    </tr>\n",
       "  </tbody>\n",
       "</table>\n",
       "</div>"
      ],
      "text/plain": [
       "                                   Job Title  \\\n",
       "1  2024 University Graduate - Data Scientist   \n",
       "2          Data Scientist – Entry Level 2024   \n",
       "3                           Data Scientist 2   \n",
       "4       Entry Level Data Scientist 2023/2024   \n",
       "5                         Data Scientist (C)   \n",
       "\n",
       "                                     Salary Estimate  \\\n",
       "1              Employer Provided Salary:$83K - $153K   \n",
       "2              Employer Provided Salary:$71K - $133K   \n",
       "3              Employer Provided Salary:$94K - $183K   \n",
       "4                       $48K - $78K (Glassdoor est.)   \n",
       "5  Employer Provided Salary:$65.00 - $75.00 Per Hour   \n",
       "\n",
       "                                     Job Description  Rating    Company Name  \\\n",
       "1  Our Company\\n\\nChanging the world through digi...     4.4      Adobe\\n4.4   \n",
       "2  Introduction\\nRanked by Forbes as one of the w...     3.9        IBM\\n3.9   \n",
       "3  The Microsoft 365 team is looking for a Data S...     4.3  Microsoft\\n4.3   \n",
       "4  You may not realize it, but you’ve likely used...     3.9     CPChem\\n3.9   \n",
       "5  The Team:\\nAt Client’s Artificial Intelligence...    -1.0    IVID TEK INC   \n",
       "\n",
       "            Location                    Size  Founded  Type of ownership  \\\n",
       "1       San Jose, CA        10000+ Employees     1982   Company - Public   \n",
       "2        Atlanta, GA        10000+ Employees     1911   Company - Public   \n",
       "3        Redmond, WA        10000+ Employees     1975   Company - Public   \n",
       "4  The Woodlands, TX  1001 to 5000 Employees     2000  Company - Private   \n",
       "5             Remote       1 to 50 Employees       -1   Company - Public   \n",
       "\n",
       "                                  Industry                  Sector  \\\n",
       "1            Computer Hardware Development  Information Technology   \n",
       "2  Information Technology Support Services  Information Technology   \n",
       "3            Computer Hardware Development  Information Technology   \n",
       "4                   Chemical Manufacturing           Manufacturing   \n",
       "5                                       -1                      -1   \n",
       "\n",
       "                    Revenue  hourly  employer_provided  \n",
       "1   $5 to $10 billion (USD)       0                  1  \n",
       "2        $10+ billion (USD)       0                  1  \n",
       "3        $10+ billion (USD)       0                  1  \n",
       "4        $10+ billion (USD)       0                  0  \n",
       "5  Unknown / Non-Applicable       1                  1  "
      ]
     },
     "execution_count": 40,
     "metadata": {},
     "output_type": "execute_result"
    }
   ],
   "source": [
    "#Salary Parsing\n",
    "df['hourly'] = df['Salary Estimate'].apply(lambda x: 1 if 'per hour' in x.lower() else 0)\n",
    "df['employer_provided'] = df['Salary Estimate'].apply(lambda x:1 if'employer provided salary:' in x.lower() else 0)\n",
    "df = df[df['Salary Estimate']!= '-1']\n",
    "df.head()"
   ]
  },
  {
   "cell_type": "code",
   "execution_count": 41,
   "metadata": {},
   "outputs": [
    {
     "data": {
      "text/plain": [
       "1                   Employer Provided Salary:$83K - $153K\n",
       "2                   Employer Provided Salary:$71K - $133K\n",
       "3                   Employer Provided Salary:$94K - $183K\n",
       "4                                            $48K - $78K \n",
       "5       Employer Provided Salary:$65.00 - $75.00 Per Hour\n",
       "                              ...                        \n",
       "918                 Employer Provided Salary:$75K - $130K\n",
       "966                                         $86K - $118K \n",
       "1010                Employer Provided Salary:$82K - $143K\n",
       "1281    Employer Provided Salary:$70.00 - $73.00 Per Hour\n",
       "1350                Employer Provided Salary:$82K - $143K\n",
       "Name: Salary Estimate, Length: 680, dtype: object"
      ]
     },
     "execution_count": 41,
     "metadata": {},
     "output_type": "execute_result"
    }
   ],
   "source": [
    "df['Salary Estimate'] = df['Salary Estimate'].apply(lambda x: x.split('(')[0])\n",
    "df['Salary Estimate']"
   ]
  },
  {
   "cell_type": "code",
   "execution_count": 42,
   "metadata": {},
   "outputs": [],
   "source": [
    "minus_kd = Salary.apply(lambda x: x.replace('K', '').replace('$', '').replace(' ', ''))\n",
    "min_hr = minus_kd.apply(lambda x: x.lower().replace('perhour', '').replace('employerprovidedsalary:', ''))\n"
   ]
  },
  {
   "cell_type": "code",
   "execution_count": 43,
   "metadata": {},
   "outputs": [
    {
     "data": {
      "text/plain": [
       "1            83-153\n",
       "2            71-133\n",
       "3            94-183\n",
       "4             48-78\n",
       "5       65.00-75.00\n",
       "           ...     \n",
       "918          75-130\n",
       "966          86-118\n",
       "1010         82-143\n",
       "1281    70.00-73.00\n",
       "1350         82-143\n",
       "Name: Salary Estimate, Length: 680, dtype: object"
      ]
     },
     "execution_count": 43,
     "metadata": {},
     "output_type": "execute_result"
    }
   ],
   "source": [
    "df['Salary Estimate'] = minus_kd.apply(lambda x: x.lower().replace('perhour','').replace('employerprovidedsalary:', ''))\n",
    "df['Salary Estimate']"
   ]
  },
  {
   "cell_type": "code",
   "execution_count": 44,
   "metadata": {},
   "outputs": [
    {
     "data": {
      "text/html": [
       "<div>\n",
       "<style scoped>\n",
       "    .dataframe tbody tr th:only-of-type {\n",
       "        vertical-align: middle;\n",
       "    }\n",
       "\n",
       "    .dataframe tbody tr th {\n",
       "        vertical-align: top;\n",
       "    }\n",
       "\n",
       "    .dataframe thead th {\n",
       "        text-align: right;\n",
       "    }\n",
       "</style>\n",
       "<table border=\"1\" class=\"dataframe\">\n",
       "  <thead>\n",
       "    <tr style=\"text-align: right;\">\n",
       "      <th></th>\n",
       "      <th>Job Title</th>\n",
       "      <th>Salary Estimate</th>\n",
       "      <th>Job Description</th>\n",
       "      <th>Rating</th>\n",
       "      <th>Company Name</th>\n",
       "      <th>Location</th>\n",
       "      <th>Size</th>\n",
       "      <th>Founded</th>\n",
       "      <th>Type of ownership</th>\n",
       "      <th>Industry</th>\n",
       "      <th>Sector</th>\n",
       "      <th>Revenue</th>\n",
       "      <th>hourly</th>\n",
       "      <th>employer_provided</th>\n",
       "      <th>min_salary</th>\n",
       "      <th>max_salary</th>\n",
       "      <th>avg_salary</th>\n",
       "    </tr>\n",
       "  </thead>\n",
       "  <tbody>\n",
       "    <tr>\n",
       "      <th>1</th>\n",
       "      <td>2024 University Graduate - Data Scientist</td>\n",
       "      <td>83-153</td>\n",
       "      <td>Our Company\\n\\nChanging the world through digi...</td>\n",
       "      <td>4.4</td>\n",
       "      <td>Adobe\\n4.4</td>\n",
       "      <td>San Jose, CA</td>\n",
       "      <td>10000+ Employees</td>\n",
       "      <td>1982</td>\n",
       "      <td>Company - Public</td>\n",
       "      <td>Computer Hardware Development</td>\n",
       "      <td>Information Technology</td>\n",
       "      <td>$5 to $10 billion (USD)</td>\n",
       "      <td>0</td>\n",
       "      <td>1</td>\n",
       "      <td>83</td>\n",
       "      <td>153</td>\n",
       "      <td>118.0</td>\n",
       "    </tr>\n",
       "    <tr>\n",
       "      <th>2</th>\n",
       "      <td>Data Scientist – Entry Level 2024</td>\n",
       "      <td>71-133</td>\n",
       "      <td>Introduction\\nRanked by Forbes as one of the w...</td>\n",
       "      <td>3.9</td>\n",
       "      <td>IBM\\n3.9</td>\n",
       "      <td>Atlanta, GA</td>\n",
       "      <td>10000+ Employees</td>\n",
       "      <td>1911</td>\n",
       "      <td>Company - Public</td>\n",
       "      <td>Information Technology Support Services</td>\n",
       "      <td>Information Technology</td>\n",
       "      <td>$10+ billion (USD)</td>\n",
       "      <td>0</td>\n",
       "      <td>1</td>\n",
       "      <td>71</td>\n",
       "      <td>133</td>\n",
       "      <td>102.0</td>\n",
       "    </tr>\n",
       "    <tr>\n",
       "      <th>3</th>\n",
       "      <td>Data Scientist 2</td>\n",
       "      <td>94-183</td>\n",
       "      <td>The Microsoft 365 team is looking for a Data S...</td>\n",
       "      <td>4.3</td>\n",
       "      <td>Microsoft\\n4.3</td>\n",
       "      <td>Redmond, WA</td>\n",
       "      <td>10000+ Employees</td>\n",
       "      <td>1975</td>\n",
       "      <td>Company - Public</td>\n",
       "      <td>Computer Hardware Development</td>\n",
       "      <td>Information Technology</td>\n",
       "      <td>$10+ billion (USD)</td>\n",
       "      <td>0</td>\n",
       "      <td>1</td>\n",
       "      <td>94</td>\n",
       "      <td>183</td>\n",
       "      <td>138.5</td>\n",
       "    </tr>\n",
       "    <tr>\n",
       "      <th>4</th>\n",
       "      <td>Entry Level Data Scientist 2023/2024</td>\n",
       "      <td>48-78</td>\n",
       "      <td>You may not realize it, but you’ve likely used...</td>\n",
       "      <td>3.9</td>\n",
       "      <td>CPChem\\n3.9</td>\n",
       "      <td>The Woodlands, TX</td>\n",
       "      <td>1001 to 5000 Employees</td>\n",
       "      <td>2000</td>\n",
       "      <td>Company - Private</td>\n",
       "      <td>Chemical Manufacturing</td>\n",
       "      <td>Manufacturing</td>\n",
       "      <td>$10+ billion (USD)</td>\n",
       "      <td>0</td>\n",
       "      <td>0</td>\n",
       "      <td>48</td>\n",
       "      <td>78</td>\n",
       "      <td>63.0</td>\n",
       "    </tr>\n",
       "    <tr>\n",
       "      <th>5</th>\n",
       "      <td>Data Scientist (C)</td>\n",
       "      <td>65.00-75.00</td>\n",
       "      <td>The Team:\\nAt Client’s Artificial Intelligence...</td>\n",
       "      <td>-1.0</td>\n",
       "      <td>IVID TEK INC</td>\n",
       "      <td>Remote</td>\n",
       "      <td>1 to 50 Employees</td>\n",
       "      <td>-1</td>\n",
       "      <td>Company - Public</td>\n",
       "      <td>-1</td>\n",
       "      <td>-1</td>\n",
       "      <td>Unknown / Non-Applicable</td>\n",
       "      <td>1</td>\n",
       "      <td>1</td>\n",
       "      <td>65</td>\n",
       "      <td>75</td>\n",
       "      <td>70.0</td>\n",
       "    </tr>\n",
       "  </tbody>\n",
       "</table>\n",
       "</div>"
      ],
      "text/plain": [
       "                                   Job Title Salary Estimate  \\\n",
       "1  2024 University Graduate - Data Scientist          83-153   \n",
       "2          Data Scientist – Entry Level 2024          71-133   \n",
       "3                           Data Scientist 2          94-183   \n",
       "4       Entry Level Data Scientist 2023/2024           48-78   \n",
       "5                         Data Scientist (C)     65.00-75.00   \n",
       "\n",
       "                                     Job Description  Rating    Company Name  \\\n",
       "1  Our Company\\n\\nChanging the world through digi...     4.4      Adobe\\n4.4   \n",
       "2  Introduction\\nRanked by Forbes as one of the w...     3.9        IBM\\n3.9   \n",
       "3  The Microsoft 365 team is looking for a Data S...     4.3  Microsoft\\n4.3   \n",
       "4  You may not realize it, but you’ve likely used...     3.9     CPChem\\n3.9   \n",
       "5  The Team:\\nAt Client’s Artificial Intelligence...    -1.0    IVID TEK INC   \n",
       "\n",
       "            Location                    Size  Founded  Type of ownership  \\\n",
       "1       San Jose, CA        10000+ Employees     1982   Company - Public   \n",
       "2        Atlanta, GA        10000+ Employees     1911   Company - Public   \n",
       "3        Redmond, WA        10000+ Employees     1975   Company - Public   \n",
       "4  The Woodlands, TX  1001 to 5000 Employees     2000  Company - Private   \n",
       "5             Remote       1 to 50 Employees       -1   Company - Public   \n",
       "\n",
       "                                  Industry                  Sector  \\\n",
       "1            Computer Hardware Development  Information Technology   \n",
       "2  Information Technology Support Services  Information Technology   \n",
       "3            Computer Hardware Development  Information Technology   \n",
       "4                   Chemical Manufacturing           Manufacturing   \n",
       "5                                       -1                      -1   \n",
       "\n",
       "                    Revenue  hourly  employer_provided  min_salary  \\\n",
       "1   $5 to $10 billion (USD)       0                  1          83   \n",
       "2        $10+ billion (USD)       0                  1          71   \n",
       "3        $10+ billion (USD)       0                  1          94   \n",
       "4        $10+ billion (USD)       0                  0          48   \n",
       "5  Unknown / Non-Applicable       1                  1          65   \n",
       "\n",
       "   max_salary  avg_salary  \n",
       "1         153       118.0  \n",
       "2         133       102.0  \n",
       "3         183       138.5  \n",
       "4          78        63.0  \n",
       "5          75        70.0  "
      ]
     },
     "execution_count": 44,
     "metadata": {},
     "output_type": "execute_result"
    }
   ],
   "source": [
    "df['min_salary']=min_hr.apply(lambda x:round(float(x.split('-')[0])))\n",
    "df['max_salary']=min_hr.apply(lambda x:round(float(x.split('-')[-1])))\n",
    "df['avg_salary']= (df.min_salary+df.max_salary)/2\n",
    "df.head()"
   ]
  },
  {
   "cell_type": "code",
   "execution_count": 45,
   "metadata": {},
   "outputs": [
    {
     "data": {
      "text/plain": [
       "1              Adobe\n",
       "2                IBM\n",
       "3          Microsoft\n",
       "4             CPChem\n",
       "5       IVID TEK INC\n",
       "            ...     \n",
       "918       The JAAW G\n",
       "966             Kumo\n",
       "1010         Parsons\n",
       "1281              -1\n",
       "1350                \n",
       "Name: company_txt, Length: 680, dtype: object"
      ]
     },
     "execution_count": 45,
     "metadata": {},
     "output_type": "execute_result"
    }
   ],
   "source": [
    "#Company Name\n",
    "df['company_txt'] = df.apply(lambda x: x['Company Name'] if x['Rating'] ==-1 else x['Company Name'][:-4], axis=1)\n",
    "df['company_txt']"
   ]
  },
  {
   "cell_type": "code",
   "execution_count": 46,
   "metadata": {},
   "outputs": [
    {
     "data": {
      "text/plain": [
       "1           CA\n",
       "2           GA\n",
       "3           WA\n",
       "4           TX\n",
       "5       Remote\n",
       "         ...  \n",
       "918         UT\n",
       "966         MI\n",
       "1010    Remote\n",
       "1281        -1\n",
       "1350        -1\n",
       "Name: job_state, Length: 680, dtype: object"
      ]
     },
     "execution_count": 46,
     "metadata": {},
     "output_type": "execute_result"
    }
   ],
   "source": [
    "#state field\n",
    "df['job_state'] = df['Location'].apply(lambda x: x.split(',')[-1])\n",
    "df['job_state']"
   ]
  },
  {
   "cell_type": "code",
   "execution_count": 47,
   "metadata": {},
   "outputs": [
    {
     "data": {
      "text/plain": [
       "job_state\n",
       " CA               141\n",
       "Remote             58\n",
       " TX                48\n",
       " VA                46\n",
       " NY                32\n",
       " IL                28\n",
       " MA                28\n",
       " MD                28\n",
       " CO                21\n",
       " NJ                21\n",
       " FL                19\n",
       " NC                18\n",
       " WA                16\n",
       " DC                15\n",
       " GA                14\n",
       " MI                13\n",
       " PA                13\n",
       "United States      10\n",
       " UT                10\n",
       " OH                10\n",
       " CT                 8\n",
       " AZ                 8\n",
       "-1                  8\n",
       " MO                 7\n",
       " WI                 7\n",
       " MN                 6\n",
       " LA                 5\n",
       " DE                 4\n",
       "California          4\n",
       " IA                 4\n",
       " AR                 3\n",
       " AL                 3\n",
       " NE                 2\n",
       " OR                 2\n",
       " IN                 2\n",
       " RI                 2\n",
       " NM                 2\n",
       " KY                 2\n",
       " ND                 1\n",
       " NH                 1\n",
       "Maryland            1\n",
       "Manhattan           1\n",
       " TN                 1\n",
       "Illinois            1\n",
       "Point Loma          1\n",
       "New York State      1\n",
       " KS                 1\n",
       " NV                 1\n",
       " ME                 1\n",
       " MS                 1\n",
       "Name: count, dtype: int64"
      ]
     },
     "execution_count": 47,
     "metadata": {},
     "output_type": "execute_result"
    }
   ],
   "source": [
    "df.job_state.value_counts()"
   ]
  },
  {
   "cell_type": "code",
   "execution_count": 48,
   "metadata": {},
   "outputs": [],
   "source": [
    "#age of company\n",
    "df['age'] = df.Founded.apply(lambda x: x if x<1 else 2023-x)"
   ]
  },
  {
   "cell_type": "code",
   "execution_count": 54,
   "metadata": {},
   "outputs": [],
   "source": [
    "#conditions for dropping rows\n",
    "condition1 = df['Revenue'] == 'Unknown / Non-Applicable'\n",
    "condition2 = df['Revenue'] == '-1'\n",
    "\n",
    "# Combine conditions\n",
    "rows_to_drop = df[condition1 | condition2].index\n",
    "\n",
    "# Drop rows based on the conditions\n",
    "df.drop(rows_to_drop, inplace=True, axis=0)\n"
   ]
  },
  {
   "cell_type": "code",
   "execution_count": 59,
   "metadata": {},
   "outputs": [],
   "source": [
    "#conditions for dropping row\n",
    "indices_to_drop = df[(df['Founded'] == -1)].index\n",
    "df.drop(indices_to_drop, inplace=True, axis=0)"
   ]
  },
  {
   "cell_type": "code",
   "execution_count": 60,
   "metadata": {},
   "outputs": [],
   "source": [
    "#conditions for dropping row\n",
    "indices_to_drop = df[(df['Rating'] == -1)].index\n",
    "df.drop(indices_to_drop, inplace=True, axis=0)"
   ]
  },
  {
   "cell_type": "code",
   "execution_count": 77,
   "metadata": {},
   "outputs": [
    {
     "data": {
      "text/plain": [
       "job_simp\n",
       "data scientist    334\n",
       "na                 34\n",
       "analyst             9\n",
       "mle                 7\n",
       "data engineer       5\n",
       "manager             2\n",
       "director            1\n",
       "Name: count, dtype: int64"
      ]
     },
     "execution_count": 77,
     "metadata": {},
     "output_type": "execute_result"
    }
   ],
   "source": [
    "def title_simplifier(title):\n",
    "    if 'data scientist' in title.lower():\n",
    "        return 'data scientist'\n",
    "    elif 'data engineer' in title.lower():\n",
    "        return 'data engineer'\n",
    "    elif 'analyst' in title.lower():\n",
    "        return 'analyst'\n",
    "    elif 'machine learning' in title.lower():\n",
    "        return 'mle'\n",
    "    elif 'manager' in title.lower():\n",
    "        return 'manager'\n",
    "    elif 'director' in title.lower():\n",
    "        return 'director'\n",
    "    else:\n",
    "        return 'na'\n",
    "    \n",
    "def seniority(title):\n",
    "    if 'sr' in title.lower() or 'senior' in title.lower() or 'sr' in title.lower() or 'lead' in title.lower() or 'principal' in title.lower():\n",
    "            return 'senior'\n",
    "    elif 'jr' in title.lower() or 'jr.' in title.lower():\n",
    "        return 'jr'\n",
    "    else:\n",
    "        return 'na'\n",
    "    \n",
    "df['job_simp'] = df['Job Title'].apply(title_simplifier)\n",
    "df.job_simp.value_counts()\n"
   ]
  },
  {
   "cell_type": "code",
   "execution_count": 75,
   "metadata": {},
   "outputs": [
    {
     "data": {
      "text/plain": [
       "seniority\n",
       "na        268\n",
       "senior    120\n",
       "jr          4\n",
       "Name: count, dtype: int64"
      ]
     },
     "execution_count": 75,
     "metadata": {},
     "output_type": "execute_result"
    }
   ],
   "source": [
    "df['seniority'] = df['Job Title'].apply(seniority)\n",
    "df.seniority.value_counts()"
   ]
  },
  {
   "cell_type": "code",
   "execution_count": 76,
   "metadata": {},
   "outputs": [
    {
     "data": {
      "text/plain": [
       "job_state\n",
       "CA                77\n",
       "TX                29\n",
       "VA                26\n",
       "MA                23\n",
       "Remote            22\n",
       "IL                19\n",
       "MD                17\n",
       "NY                15\n",
       "NC                13\n",
       "CO                12\n",
       "FL                11\n",
       "NJ                11\n",
       "GA                10\n",
       "MI                10\n",
       "WA                10\n",
       "PA                 8\n",
       "OH                 7\n",
       "AZ                 6\n",
       "United States      6\n",
       "DC                 6\n",
       "CT                 6\n",
       "WI                 5\n",
       "MO                 5\n",
       "IA                 4\n",
       "LA                 4\n",
       "-1                 4\n",
       "MN                 3\n",
       "California         3\n",
       "AR                 3\n",
       "NE                 2\n",
       "OR                 2\n",
       "UT                 2\n",
       "IN                 2\n",
       "DE                 2\n",
       "Illinois           1\n",
       "Maryland           1\n",
       "NM                 1\n",
       "New York State     1\n",
       "NV                 1\n",
       "AL                 1\n",
       "RI                 1\n",
       "Name: count, dtype: int64"
      ]
     },
     "execution_count": 76,
     "metadata": {},
     "output_type": "execute_result"
    }
   ],
   "source": [
    "df['job_state'] = df.job_state.apply(lambda x:x.strip() if x.strip().lower()!= 'United States' else 'CA')\n",
    "df.job_state.value_counts()"
   ]
  },
  {
   "cell_type": "code",
   "execution_count": 70,
   "metadata": {},
   "outputs": [
    {
     "data": {
      "text/plain": [
       "0                       Adobe\n",
       "1                         IBM\n",
       "2                   Microsoft\n",
       "3                      CPChem\n",
       "4                        AT&T\n",
       "                ...          \n",
       "387                    Cydcor\n",
       "388     Green Dot Corporation\n",
       "389    The University of Iowa\n",
       "390                      Kumo\n",
       "391                       NaN\n",
       "Name: company_txt, Length: 392, dtype: object"
      ]
     },
     "execution_count": 70,
     "metadata": {},
     "output_type": "execute_result"
    }
   ],
   "source": [
    "data['company_txt'] = data['company_txt'].str.replace('\\n',' ')\n",
    "data['company_txt']"
   ]
  },
  {
   "cell_type": "code",
   "execution_count": 71,
   "metadata": {},
   "outputs": [
    {
     "data": {
      "image/png": "[encoded data removed]",
      "text/plain": [
       "<Figure size 432x288 with 1 Axes>"
      ]
     },
     "metadata": {},
     "output_type": "display_data"
    }
   ],
   "source": [
    "plt.hist(df.Rating, color='#abcdef')\n",
    "\n",
    "plt.ylabel('Number of Companies')\n",
    "plt.xlabel('Rating')\n",
    "plt.title('Rating of Companies on Glassdoor.com')\n",
    "\n",
    "plt.show()"
   ]
  },
  {
   "cell_type": "code",
   "execution_count": 72,
   "metadata": {},
   "outputs": [
    {
     "data": {
      "image/png": "[encoded data removed]",
      "text/plain": [
       "<Figure size 432x288 with 1 Axes>"
      ]
     },
     "metadata": {},
     "output_type": "display_data"
    }
   ],
   "source": [
    "plt.hist(df.avg_salary, color='#abcdef')\n",
    "\n",
    "plt.ylabel('Number of Companies')\n",
    "plt.xlabel('Average Salary Range')\n",
    "plt.title('Average Salary provided By Companies')\n",
    "\n",
    "plt.show()"
   ]
  },
  {
   "cell_type": "code",
   "execution_count": 73,
   "metadata": {},
   "outputs": [
    {
     "data": {
      "image/png": "[encoded data removed]",
      "text/plain": [
       "<Figure size 432x288 with 1 Axes>"
      ]
     },
     "metadata": {},
     "output_type": "display_data"
    }
   ],
   "source": [
    "plt.hist(df.age, color='#abcdef')\n",
    "\n",
    "plt.ylabel('Number of Companies')\n",
    "plt.xlabel('Age')\n",
    "plt.title('Age of Companies')\n",
    "\n",
    "plt.show()"
   ]
  },
  {
   "cell_type": "code",
   "execution_count": 78,
   "metadata": {},
   "outputs": [
    {
     "data": {
      "image/png": "[encoded data removed]",
      "text/plain": [
       "<Figure size 576x432 with 1 Axes>"
      ]
     },
     "metadata": {},
     "output_type": "display_data"
    }
   ],
   "source": [
    "plt.figure(figsize=(8, 6))\n",
    "sns.countplot(data=df, x='Size')\n",
    "plt.title('Company Size Distribution')\n",
    "plt.xlabel('Company Size')\n",
    "plt.xticks(rotation=45)\n",
    "plt.ylabel('Count')\n",
    "plt.show()"
   ]
  },
  {
   "cell_type": "code",
   "execution_count": 79,
   "metadata": {},
   "outputs": [
    {
     "data": {
      "image/png": "[encoded data removed]",
      "text/plain": [
       "<Figure size 576x576 with 1 Axes>"
      ]
     },
     "metadata": {},
     "output_type": "display_data"
    }
   ],
   "source": [
    "# Location-based Analysis\n",
    "location_counts = df['Location'].value_counts().nlargest(5)\n",
    "plt.figure(figsize=(8, 8))\n",
    "plt.pie(location_counts, labels=location_counts.index, autopct='%1.1f%%', startangle=100)\n",
    "plt.title('Top 5 Job Locations')\n",
    "plt.show()"
   ]
  },
  {
   "cell_type": "code",
   "execution_count": null,
   "metadata": {},
   "outputs": [],
   "source": []
  }
 ],
 "metadata": {
  "kernelspec": {
   "display_name": "Python 3",
   "language": "python",
   "name": "python3"
  },
  "language_info": {
   "codemirror_mode": {
    "name": "ipython",
    "version": 3
   },
   "file_extension": ".py",
   "mimetype": "text/x-python",
   "name": "python",
   "nbconvert_exporter": "python",
   "pygments_lexer": "ipython3",
   "version": "3.8.5"
  }
 },
 "nbformat": 4,
 "nbformat_minor": 4
}
